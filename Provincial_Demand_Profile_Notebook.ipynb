{
 "cells": [
  {
   "cell_type": "code",
   "execution_count": null,
   "id": "666fba63-6d3b-4e72-9246-62b312feea36",
   "metadata": {
    "tags": []
   },
   "outputs": [],
   "source": [
    "import pandas as pd\n",
    "import plotly.express as px\n",
    "import numpy as np\n",
    "from _utils.configurations import * #plotly configuration settings\n",
    "\n",
    "import warnings\n",
    "\n",
    "# Suppress Warning messages\n",
    "warnings.simplefilter(action='ignore')"
   ]
  },
  {
   "cell_type": "code",
   "execution_count": null,
   "id": "61748062-c572-4f7c-82b6-69e5d880461d",
   "metadata": {},
   "outputs": [],
   "source": [
    "provinces = [\"Eastern Cape\", \"Limpopo\", \"Mpumalanga\", \"Gauteng\", \"Western Cape\", \"Northern Cape\", \"Hydra Central\", \"Kwazulu Natal\", \"North West\", \"Free State\"]\n",
    "provinces_corrected = [\"Eastern Cape_corrected\", \"Limpopo_corrected\", \"Mpumalanga_corrected\", \"Gauteng_corrected\", \"Western Cape_corrected\", \"Northern Cape_corrected\",\n",
    "                       \"Hydra Central_corrected\", \"Kwazulu Natal_corrected\", \"North West_corrected\", \"Free State_corrected\"]\n",
    "colnames = [\"Date\",\"Eastern Cape\", \"Limpopo\", \"Mpumalanga\", \"Gauteng\", \"Western Cape\", \"Northern Cape\", \"Hydra Central\", \"Kwazulu Natal\", \"North West\", \"Free State\"]"
   ]
  },
  {
   "cell_type": "code",
   "execution_count": null,
   "id": "6bfc0b0d-cc89-4c01-8588-28c8f19ec3c4",
   "metadata": {
    "tags": []
   },
   "outputs": [],
   "source": [
    "prov_2017 = pd.read_excel(\"data\\\\2017 2021 2022 Provincial loading per provincial supply area_mixed.xlsx\", \n",
    "                          sheet_name = \"2017_fixed\", \n",
    "                          skiprows = 0, usecols = colnames, nrows = 8760,\n",
    "                          index_col = \"Date\", parse_dates = True)\n",
    "prov_2017.head()"
   ]
  },
  {
   "cell_type": "code",
   "execution_count": null,
   "id": "94f12c09-81a9-4ba4-ab94-48968459457e",
   "metadata": {},
   "outputs": [],
   "source": [
    "prov_2017_base = prov_2017.copy()\n",
    "prov_2017_norm = prov_2017 / prov_2017.sum().sum()"
   ]
  },
  {
   "cell_type": "code",
   "execution_count": null,
   "id": "8d79bb70-839a-4194-a8e6-b958f2195a43",
   "metadata": {
    "tags": []
   },
   "outputs": [],
   "source": [
    "title = \"<b>Demand in GW per Provincial Supply Area - 2017 Data (Eskom)</b><br>Individual Provincial 'Eskom Supply Area' Profiles - Not stacked\"\n",
    "fig = px.line(prov_2017/1_000,\n",
    "              labels = {\"variable\":\"Provincial Profile\", \"value\":\"Electricity Demand (GW)\"},\n",
    "              title = title,\n",
    "              color_discrete_sequence=px.colors.qualitative.Prism)\n",
    "fig.update_yaxes(showticklabels=True, showgrid = True, title_font = dict(size = 18))\n",
    "fig.update_xaxes(showticklabels=True, showgrid = True, title_font = dict(size = 18))\n",
    "fig.update_layout(legend=dict( font= dict(size=14)))\n",
    "fig.update_yaxes(range=[0, 11])\n",
    "fig.update_layout(\n",
    "    title={ \"font\": dict(size=26), 'y':0.94, 'x':0.5, 'xanchor': 'center', 'yanchor': 'top'}, \n",
    "    height = 700, width = 1200, margin = dict( l=50, r=20,b=50, t=80))\n",
    "fig.show()\n",
    "short_title = str(title.split(\">\")[1].split(\"<\")[0])\n",
    "fig.write_html(\"figures/interactive/\"+ short_title +\".html\")\n",
    "fig.write_image(\"figures/static/\"+ short_title +\".jpg\", scale = 3)"
   ]
  },
  {
   "cell_type": "code",
   "execution_count": null,
   "id": "f6d11a40-6694-4fa7-9e1f-c6c625764e70",
   "metadata": {
    "tags": []
   },
   "outputs": [],
   "source": [
    "eskom_2017_2023 = pd.read_csv(\"data\\\\Eskom_DataPortal_04-17_12-23_combined.csv\", skiprows = 0,\n",
    "                          index_col = \"Date\", parse_dates = True)\n",
    "eskom_2017_2023[\"Total Generation\"] = eskom_2017_2023[\"Dispatchable Generation\"] + eskom_2017_2023[\"Total RE\"]\n",
    "eskom_2017_2023[\"Loadshedding\"] = eskom_2017_2023[\"ILS Usage\"] + eskom_2017_2023[\"Manual Load_Reduction(MLR)\"] + eskom_2017_2023[\"IOS Excl ILS and MLR\"]\n",
    "#eskom_2017_2023[\"Total Generation_plus_loadshedding\"] = eskom_2017_2023[\"Total Generation\"] + eskom_2017_2023[\"Loadshedding\"]\n",
    "                \n",
    "eskom_2017_2023.index\n",
    "eskom_2019 = eskom_2017_2023[\"01-01-2019 00:00\":\"31-12-2019 23:00\"]\n",
    "eskom_2019.index = pd.date_range(start = \"01-01-2019 00:00\", end = \"31-12-2019 23:00\", freq = \"h\")\n",
    "eskom_2020 = eskom_2017_2023[\"01-01-2020 00:00\":\"31-12-2020 23:00\"]\n",
    "eskom_2020.index = pd.date_range(start = \"01-01-2020 00:00\", end = \"31-12-2020 23:00\", freq = \"h\")\n",
    "eskom_2021 = eskom_2017_2023[\"01-01-2021 00:00\":\"31-12-2021 23:00\"]\n",
    "eskom_2021.index = pd.date_range(start = \"01-01-2021 00:00\", end = \"31-12-2021 23:00\", freq = \"h\")\n",
    "eskom_2022 = eskom_2017_2023[\"01-01-2022 00:00\":\"31-12-2022 23:00\"]\n",
    "eskom_2022.index = pd.date_range(start = \"01-01-2022 00:00\", end = \"31-12-2022 23:00\", freq = \"h\")\n",
    "eskom_2023 = eskom_2017_2023[\"01-01-2023 00:00\":\"31-12-2023 23:00\"]\n",
    "eskom_2023.index = pd.date_range(start = \"01-01-2023 00:00\", end = \"31-12-2023 23:00\", freq = \"h\")"
   ]
  },
  {
   "cell_type": "raw",
   "id": "130b42f3-e41e-46a7-800e-ce5965084caa",
   "metadata": {
    "tags": []
   },
   "source": [
    "#Eskom Data Portal data for debugging and validation - not visualised by default to save notebook size.\n",
    "\n",
    "title = \"<b>Eskom Data Portal - All Data - April 2017 to end 2023</b><br>Individual Timseries Profiles\"\n",
    "fig = px.line(eskom_2017_2023,\n",
    "              labels = {\"variable\":\"Timeseries\", \"value\":\"Electricity Demand/Supply (MW)\"},\n",
    "              title = title,\n",
    "              color_discrete_sequence=px.colors.qualitative.Prism)\n",
    "fig.update_yaxes(showticklabels=True, showgrid = True, title_font = dict(size = 18))\n",
    "fig.update_xaxes(showticklabels=True, showgrid = True, title_font = dict(size = 18))\n",
    "fig.update_layout(legend=dict( font= dict(size=14)))\n",
    "fig.update_layout(\n",
    "    title={ \"font\": dict(size=26), 'y':0.94, 'x':0.5, 'xanchor': 'center', 'yanchor': 'top'}, \n",
    "    height = 700, width = 1200, margin = dict( l=50, r=20,b=50, t=80))\n",
    "fig.show()\n",
    "short_title = str(title.split(\">\")[1].split(\"<\")[0])\n",
    "fig.write_html(\"figures/interactive/\"+ short_title +\".html\")\n",
    "fig.write_image(\"figures/static/\"+ short_title +\".jpg\", scale = 3)\n",
    "fig.write_image(\"figures/static/\"+ short_title +\".svg\")"
   ]
  },
  {
   "cell_type": "code",
   "execution_count": null,
   "id": "7c2ff6ce-55de-45ac-9ec4-eded75aad9a6",
   "metadata": {
    "tags": []
   },
   "outputs": [],
   "source": [
    "model_output_2017 = pd.read_csv(\"data\\\\2017_IRPDemandREF.csv\",\n",
    "                                usecols = [\"Date\",\"weekday\",\"Weighted (MW)\"],\n",
    "                                index_col = \"Date\", nrows = 8760)\n",
    "model_output_2017.rename(columns = {\"Weighted (MW)\": \"model_demand\"}, inplace = True)\n",
    "\n",
    "model_output_2017.index = pd.date_range(start = \"01-01-2017 00:00:00\", end = \"31-12-2017 23:00:00\", freq = \"h\")"
   ]
  },
  {
   "cell_type": "code",
   "execution_count": null,
   "id": "d4dbc90b-b35c-4b56-a40d-1025a0163b34",
   "metadata": {
    "tags": []
   },
   "outputs": [],
   "source": [
    "model_output_2023 = pd.read_csv(\"data\\\\IRPDemandREF.csv\",\n",
    "                                usecols = [\"Date\",\"weekday\",\"Weighted (MW)\"],\n",
    "                                index_col = \"Date\", nrows = 8760)\n",
    "model_output_2023.rename(columns = {\"Weighted (MW)\": \"model_demand\"}, inplace = True)\n",
    "\n",
    "model_output_2023.index = pd.date_range(start = \"01-01-2017 00:00:00\", end = \"31-12-2017 23:00:00\", freq = \"h\")"
   ]
  },
  {
   "cell_type": "code",
   "execution_count": null,
   "id": "06bf3d34-0d4f-4fcc-b1b4-15b2eb1349eb",
   "metadata": {
    "tags": []
   },
   "outputs": [],
   "source": [
    "model_output_2050 = pd.read_csv(\"data\\\\IRPDemandREF.csv\",\n",
    "                                usecols = [\"Date\",\"weekday\",\"Weighted (MW)\"],\n",
    "                                index_col = \"Date\")\n",
    "model_output_2050.rename(columns = {\"Weighted (MW)\": \"model_demand\"}, inplace = True)\n",
    "model_output_2050 = model_output_2050[-8760:]\n",
    "model_output_2050.index = pd.date_range(start = \"01-01-2017 00:00:00\", end = \"31-12-2017 23:00:00\", freq = \"h\")\n",
    "model_output_2050[[\"weekday\",\"model_demand\"]] = np.roll(model_output_2050[[\"weekday\",\"model_demand\"]], shift = -24, axis = 0)"
   ]
  },
  {
   "cell_type": "code",
   "execution_count": null,
   "id": "a29ee9c6-59e6-46f8-8e32-9e4bcf14c316",
   "metadata": {
    "tags": []
   },
   "outputs": [],
   "source": [
    "model_output_2050.sum()/1_000_000"
   ]
  },
  {
   "cell_type": "code",
   "execution_count": null,
   "id": "7dd35172-d041-4d07-b102-7b0a0d759ca7",
   "metadata": {
    "tags": []
   },
   "outputs": [],
   "source": [
    "model_output_2050_LOW = pd.read_csv(\"data\\\\IRPDemandLOW.csv\", \n",
    "                                usecols = [\"Date\",\"weekday\",\"Weighted (MW)\"],\n",
    "                                index_col = \"Date\")\n",
    "model_output_2050_LOW.rename(columns = {\"Weighted (MW)\": \"model_demand\"}, inplace = True)\n",
    "model_output_2050_LOW = model_output_2050_LOW[-8760:]\n",
    "model_output_2050_LOW.index = pd.date_range(start = \"01-01-2017 00:00:00\", end = \"31-12-2017 23:00:00\", freq = \"h\")\n",
    "model_output_2050_LOW[[\"weekday\",\"model_demand\"]] = np.roll(model_output_2050_LOW[[\"weekday\",\"model_demand\"]], shift = -24, axis = 0)"
   ]
  },
  {
   "cell_type": "code",
   "execution_count": null,
   "id": "8db51257-096d-4cb2-9fac-1a5d4528c575",
   "metadata": {
    "tags": []
   },
   "outputs": [],
   "source": [
    "model_output_2050_LOW.sum()/1_000_000"
   ]
  },
  {
   "cell_type": "code",
   "execution_count": null,
   "id": "8f4e9baf-8f7a-47ef-a5cb-9dc77df3fff3",
   "metadata": {
    "tags": []
   },
   "outputs": [],
   "source": [
    "prov_2017 = prov_2017_norm * model_output_2017[\"model_demand\"].sum()\n",
    "prov_2017[\"Provincial Demand Scaled - 2017 Total\"] = prov_2017.sum(axis = 1)"
   ]
  },
  {
   "cell_type": "code",
   "execution_count": null,
   "id": "8c80b1ca-606f-4996-afda-8c667e8cbbb3",
   "metadata": {
    "tags": []
   },
   "outputs": [],
   "source": [
    "prov_2050 = prov_2017_norm * model_output_2050[\"model_demand\"].sum()\n",
    "prov_2050[\"Provincial Demand Scaled - 2050 Total\"] = prov_2050.sum(axis = 1)"
   ]
  },
  {
   "cell_type": "code",
   "execution_count": null,
   "id": "e978ff2f-4107-4467-9785-323b669a4477",
   "metadata": {
    "tags": []
   },
   "outputs": [],
   "source": [
    "prov_2050.head()"
   ]
  },
  {
   "cell_type": "code",
   "execution_count": null,
   "id": "de976ab0-8936-4f25-8811-3b2d11b3eb48",
   "metadata": {
    "tags": []
   },
   "outputs": [],
   "source": [
    "prov_2050[\"Provincial Demand Scaled - 2050 Total\"].sum()/1_000_000"
   ]
  },
  {
   "cell_type": "code",
   "execution_count": null,
   "id": "3385f463-c089-4190-b661-c89ab1693317",
   "metadata": {},
   "outputs": [],
   "source": [
    "historical_sentout = pd.read_excel(\"data\\\\Sentout_and_Exports_Hist_Actual.xlsx\", sheet_name = \"Sentout\", index_col = \"hour\")\n",
    "historical_sentout.index = pd.date_range(start = \"01-01-2017 00:00:00\", end = \"31-12-2017 23:00:00\", freq = \"h\")\n",
    "historical_sentout.head()"
   ]
  },
  {
   "cell_type": "code",
   "execution_count": null,
   "id": "a5417312-9b19-458a-aec9-45e17cc17e5b",
   "metadata": {
    "tags": []
   },
   "outputs": [],
   "source": [
    "combined = pd.DataFrame()\n",
    "combined[\"Provincial Demand Scaled - 2017 Total - REF\"] = prov_2017[\"Provincial Demand Scaled - 2017 Total\"]\n",
    "combined[\"Provincial Demand Scaled - 2050 Total - REF\"] = prov_2050[\"Provincial Demand Scaled - 2050 Total\"]\n",
    "combined[\"National Hourly Demand Model - 2017 Output - REF\"] = model_output_2017[\"model_demand\"]\n",
    "\n",
    "combined[\"National Hourly Demand Model - 2023 Output - REF\"] = model_output_2023[\"model_demand\"]\n",
    "\n",
    "combined[\"National Hourly Demand Model - 2050 Output - REF\"] = model_output_2050[\"model_demand\"]\n",
    "\n",
    "combined[\"National Hourly Demand Model - 2050 Output - LOW\"] = model_output_2050_LOW[\"model_demand\"]\n",
    "\n",
    "#difference_ratio = combined[\"National Hourly Demand Model - 2050 Output - REF\"].sum() / combined[\"National Hourly Demand Model - 2050 Output - LOW\"].sum()\n",
    "#combined[\"National Hourly Demand Model - 2050 Output - LOW_scaled_to_REF\"] = difference_ratio * combined[\"National Hourly Demand Model - 2050 Output - LOW\"]\n",
    "\n",
    "combined[\"RSA_contracted_2017\"] = historical_sentout[2017]"
   ]
  },
  {
   "cell_type": "code",
   "execution_count": null,
   "id": "052fa26c-79fa-4254-9bd8-56c8eac1d289",
   "metadata": {
    "tags": []
   },
   "outputs": [],
   "source": [
    "(combined.sum()/1_000_000).round(2).rename(\"Total Demand (TWh)\").to_frame()"
   ]
  },
  {
   "cell_type": "code",
   "execution_count": null,
   "id": "6a6200f6-2333-4ea8-8f63-bf61cdc4dee6",
   "metadata": {
    "tags": []
   },
   "outputs": [],
   "source": [
    "combined[\"error_contracted\"] = combined[\"Provincial Demand Scaled - 2017 Total - REF\"] - combined[\"RSA_contracted_2017\"]\n",
    "combined[\"error_contracted_%\"] = (combined[\"error_contracted\"] / combined[\"RSA_contracted_2017\"])*100\n",
    "\n",
    "combined[\"error_modelled\"] = combined[\"Provincial Demand Scaled - 2017 Total - REF\"] - combined[\"National Hourly Demand Model - 2017 Output - REF\"]\n",
    "combined[\"error_modelled_%\"] = (combined[\"error_modelled\"] / combined[\"National Hourly Demand Model - 2017 Output - REF\"])*100"
   ]
  },
  {
   "cell_type": "code",
   "execution_count": null,
   "id": "634d777f-291e-4a0a-9ac7-cb4c92042c55",
   "metadata": {
    "tags": []
   },
   "outputs": [],
   "source": [
    "title = \"<b>Modelled Demand Profile Comparison - REF 2017 Modelled Years</b><br>National and Total Provincial Profiles Overlaid - 2017 - Reference IRP Demand\"\n",
    "fig = px.line(combined[[\"Provincial Demand Scaled - 2017 Total - REF\", \"National Hourly Demand Model - 2017 Output - REF\"]]/1000,\n",
    "              labels = {\"Date\":\"Date and Time\", \"variable\":\"Demand Profile Comparison\", \"value\":\"Electricity Demand (GW)\"},\n",
    "              title = title,\n",
    "              color_discrete_sequence=px.colors.qualitative.Prism)\n",
    "fig.update_yaxes(showticklabels=True, showgrid = True, title_font = dict(size = 18))\n",
    "fig.update_xaxes(showticklabels=True, showgrid = True, title_font = dict(size = 18))\n",
    "fig.update_layout(legend=dict(xanchor = \"right\", x = 0.99, y = 0.45, font= dict(size=14)))\n",
    "fig.update_yaxes(range=[0, 38])\n",
    "#fig.update_xaxes(range=[\"2017-01-01\",\"2017-01-07\"])\n",
    "fig.update_layout(\n",
    "    title={ \"font\": dict(size=26), 'y':0.94, 'x':0.5, 'xanchor': 'center', 'yanchor': 'top'}, \n",
    "    height = 700, width = 1200, margin = dict( l=50, r=20,b=50, t=80))\n",
    "fig.show()\n",
    "short_title = str(title.split(\">\")[1].split(\"<\")[0])\n",
    "fig.write_html(\"figures/interactive/\"+ short_title +\".html\")\n",
    "fig.write_image(\"figures/static/\"+ short_title +\".jpg\", scale = 3)"
   ]
  },
  {
   "cell_type": "code",
   "execution_count": null,
   "id": "6c00abf4-2294-461a-a5b6-e473866de9c9",
   "metadata": {
    "tags": []
   },
   "outputs": [],
   "source": [
    "title = \"<b>Modelled Demand Profile Comparison - Example Week - Multiple Modelled Years</b><br>National and Total Provincial Profiles Overlaid\"\n",
    "fig = px.line(combined[[\"Provincial Demand Scaled - 2017 Total - REF\", \"Provincial Demand Scaled - 2050 Total - REF\",\n",
    "                        \"National Hourly Demand Model - 2017 Output - REF\", \"National Hourly Demand Model - 2023 Output - REF\", \n",
    "                        \"National Hourly Demand Model - 2050 Output - REF\", \"National Hourly Demand Model - 2050 Output - LOW\"]]/1000,\n",
    "              labels = {\"Date\":\"Date and Time\", \"variable\":\"Demand Profile Comparison\", \"value\":\"Electricity Demand (GW)\"},\n",
    "              title = title,\n",
    "              color_discrete_sequence=px.colors.qualitative.Prism)\n",
    "fig.update_yaxes(showticklabels=True, showgrid = True, title_font = dict(size = 18))\n",
    "fig.update_xaxes(showticklabels=True, showgrid = True, title_font = dict(size = 18))\n",
    "fig.update_layout(legend=dict(xanchor = \"right\", x = 0.99, y = 0, font= dict(size=14), bgcolor='rgba(255,255,255,0.5)'))\n",
    "fig.update_yaxes(range=[0, 58])\n",
    "fig.update_xaxes(range=[\"2017-01-01\",\"2017-01-07\"])\n",
    "fig.update_xaxes(range=[\"2017-03-13\",\"2017-03-20\"])\n",
    "fig.update_layout(\n",
    "    title={ \"font\": dict(size=26), 'y':0.94, 'x':0.5, 'xanchor': 'center', 'yanchor': 'top'}, \n",
    "    height = 700, width = 1200, margin = dict( l=50, r=20,b=50, t=80))\n",
    "fig.show()\n",
    "short_title = str(title.split(\">\")[1].split(\"<\")[0])\n",
    "fig.write_html(\"figures/interactive/\"+ short_title +\".html\")\n",
    "fig.write_image(\"figures/static/\"+ short_title +\".jpg\", scale = 3)\n",
    "#fig.write_image(\"figures/static/\"+ short_title +\".svg\")"
   ]
  },
  {
   "cell_type": "code",
   "execution_count": null,
   "id": "1214f727-710b-4b6d-bf07-eb40c95b9c95",
   "metadata": {},
   "outputs": [],
   "source": [
    "title = \"<b>Average Day Output Demand Profile Comparison - REF 2017</b><br>'Average Day' Profiles Compared Between Models - 2017 - Reference IRP Demand\"\n",
    "fig = px.line(pd.pivot_table(combined/1000,\n",
    "                             index = combined.index.time, \n",
    "                             values = [\"Provincial Demand Scaled - 2017 Total - REF\", \"National Hourly Demand Model - 2017 Output - REF\"]),\n",
    "              labels = {\"index\":\"Hour of the Day\", \"variable\":\"Demand Profile Comparison\", \"value\":\"Electricity Demand (GW)\"},\n",
    "              title = title,\n",
    "              color_discrete_sequence=px.colors.qualitative.Prism)\n",
    "fig.update_yaxes(showticklabels=True, showgrid = True, title_font = dict(size = 18))\n",
    "fig.update_xaxes(showticklabels=True, showgrid = True, title_font = dict(size = 18))\n",
    "fig.update_layout(legend=dict(xanchor = \"right\", x = 0.99, y = 0.45, font= dict(size=14)))\n",
    "fig.update_yaxes(range=[0, 33])\n",
    "fig.update_layout(title={ \"font\": dict(size=26), 'y':0.94, 'x':0.5, 'xanchor': 'center', 'yanchor': 'top'}, \n",
    "    height = 700, width = 1200, margin = dict( l=50, r=20,b=50, t=80))\n",
    "fig.show()\n",
    "short_title = str(title.split(\">\")[1].split(\"<\")[0])\n",
    "fig.write_html(\"figures/interactive/\"+ short_title +\".html\")\n",
    "fig.write_image(\"figures/static/\"+ short_title +\".jpg\", scale = 3)"
   ]
  },
  {
   "cell_type": "code",
   "execution_count": null,
   "id": "10ea51ba-b115-4155-8c3e-707663d1f4fd",
   "metadata": {
    "tags": []
   },
   "outputs": [],
   "source": [
    "title = \"<b>Average Day Output Demand Profile Comparison - Multiple Modelled Years</b><br>'Average Day' Profiles Compared Between Models\"\n",
    "fig = px.line(pd.pivot_table(combined/1000,\n",
    "                             index = combined.index.time, \n",
    "                             values = [\"Provincial Demand Scaled - 2017 Total - REF\", \"Provincial Demand Scaled - 2050 Total - REF\",\n",
    "                        \"National Hourly Demand Model - 2017 Output - REF\", \"National Hourly Demand Model - 2023 Output - REF\", \n",
    "                        \"National Hourly Demand Model - 2050 Output - REF\", \"National Hourly Demand Model - 2050 Output - LOW\"]),\n",
    "              labels = {\"index\":\"Hour of the Day\", \"variable\":\"Demand Profile Comparison\", \"value\":\"Electricity Demand (GW)\"},\n",
    "              title = title,\n",
    "              color_discrete_sequence=px.colors.qualitative.Prism)\n",
    "fig.update_yaxes(showticklabels=True, showgrid = True, title_font = dict(size = 18))\n",
    "fig.update_xaxes(showticklabels=True, showgrid = True, title_font = dict(size = 18))\n",
    "fig.update_layout(legend=dict(xanchor = \"right\", x = 0.99, y = 0, font= dict(size=14), bgcolor='rgba(255,255,255,0.5)'))\n",
    "fig.update_yaxes(range=[0, 60])\n",
    "fig.update_layout(title={ \"font\": dict(size=26), 'y':0.94, 'x':0.5, 'xanchor': 'center', 'yanchor': 'top'}, \n",
    "    height = 700, width = 1200, margin = dict( l=50, r=20,b=50, t=80))\n",
    "fig.show()\n",
    "short_title = str(title.split(\">\")[1].split(\"<\")[0])\n",
    "fig.write_html(\"figures/interactive/\"+ short_title +\".html\")\n",
    "fig.write_image(\"figures/static/\"+ short_title +\".jpg\", scale = 3)"
   ]
  },
  {
   "cell_type": "code",
   "execution_count": null,
   "id": "299fd254-0271-4545-824a-0e6553ac2fc1",
   "metadata": {},
   "outputs": [],
   "source": [
    "title = \"<b>Average Error Between Models Per Hour of Day - REF 2017</b><br>Profiles Compared Between Models - 2017 - Reference IRP Demand\"\n",
    "fig = px.line(pd.pivot_table(combined, index = combined.index.time, values = \"error_modelled\"),\n",
    "        labels = {\"index\":\"Hour of the Day\", \"variable\":\"Demand Profile Comparison\", \"value\":\"Electricity Demand (MW)\"},\n",
    "              title = title,\n",
    "              color_discrete_sequence=px.colors.qualitative.Prism)\n",
    "fig.update_yaxes(showticklabels=True, showgrid = True, title_font = dict(size = 18))\n",
    "fig.update_xaxes(showticklabels=True, showgrid = True, title_font = dict(size = 18))\n",
    "fig.update_layout(legend=dict( font= dict(size=14)))\n",
    "fig.update_yaxes(range=[-500, 500])\n",
    "fig.update_layout(\n",
    "    title={ \"font\": dict(size=26), 'y':0.94, 'x':0.5, 'xanchor': 'center', 'yanchor': 'top'}, \n",
    "    height = 700, width = 1200, margin = dict( l=50, r=20,b=50, t=80))\n",
    "fig.show()\n",
    "short_title = str(title.split(\">\")[1].split(\"<\")[0])\n",
    "fig.write_html(\"figures/interactive/\"+ short_title +\".html\")\n",
    "fig.write_image(\"figures/static/\"+ short_title +\".jpg\", scale = 3)"
   ]
  },
  {
   "cell_type": "code",
   "execution_count": null,
   "id": "9ece3768-e6c9-47f5-83f5-b8d6627245be",
   "metadata": {},
   "outputs": [],
   "source": [
    "title = \"<b>Average Error Per Hour of Day for Each Day of Week - REF 2017</b><br>Profiles Compared Between Models - 2017 - Reference IRP Demand\"\n",
    "fig = px.line(pd.pivot_table(combined, index = combined.index.time, columns = combined.index.day_name(), values = \"error_modelled\"),\n",
    "        labels = {\"index\":\"Hour of the Day\", \"variable\":\"Demand Profile Comparison\", \"value\":\"Electricity Demand (MW)\"},\n",
    "              title = title,\n",
    "              color_discrete_sequence=px.colors.qualitative.Prism)\n",
    "fig.update_yaxes(showticklabels=True, showgrid = True, title_font = dict(size = 18))\n",
    "fig.update_xaxes(showticklabels=True, showgrid = True, title_font = dict(size = 18))\n",
    "fig.update_layout(legend=dict( font= dict(size=14)))\n",
    "fig.update_yaxes(range=[-2100, 2000])\n",
    "fig.update_layout(\n",
    "    title={ \"font\": dict(size=26), 'y':0.94, 'x':0.5, 'xanchor': 'center', 'yanchor': 'top'}, \n",
    "    height = 700, width = 1200, margin = dict( l=50, r=20,b=50, t=80))\n",
    "short_title = str(title.split(\">\")[1].split(\"<\")[0])\n",
    "fig.show()\n",
    "fig.write_html(\"figures/interactive/\"+ short_title +\".html\")\n",
    "fig.write_image(\"figures/static/\"+ short_title +\".jpg\", scale = 3)"
   ]
  },
  {
   "cell_type": "code",
   "execution_count": null,
   "id": "05299f89-81a1-4348-8b3d-5c9a9e647893",
   "metadata": {
    "tags": []
   },
   "outputs": [],
   "source": [
    "for province in provinces:\n",
    "    prov_2050[province+\"_hourly_share\"] = prov_2050[province]/prov_2050[\"Provincial Demand Scaled - 2050 Total\"]"
   ]
  },
  {
   "cell_type": "code",
   "execution_count": null,
   "id": "cc04d4f0-096a-41ad-a555-62b84bad4a70",
   "metadata": {},
   "outputs": [],
   "source": [
    "combined = prov_2050.copy()\n",
    "combined[\"model_output_2050\"] = model_output_2050[\"model_demand\"]\n",
    "combined[\"Provincial Demand Scaled - 2050 Total - REF\"] = prov_2050[\"Provincial Demand Scaled - 2050 Total\"]"
   ]
  },
  {
   "cell_type": "code",
   "execution_count": null,
   "id": "f63445a3-3011-49cb-8039-fd22a264f398",
   "metadata": {
    "tags": []
   },
   "outputs": [],
   "source": [
    "combined[\"error_modelled\"] = combined[\"Provincial Demand Scaled - 2050 Total\"] - combined[\"model_output_2050\"]\n",
    "combined[\"error_modelled_%\"] = (combined[\"error_modelled\"] / combined[\"model_output_2050\"])*100"
   ]
  },
  {
   "cell_type": "code",
   "execution_count": null,
   "id": "05285566-e0e1-4c14-b98a-48f1beb15d2d",
   "metadata": {
    "tags": []
   },
   "outputs": [],
   "source": [
    "combined[[\"model_output_2050\",\"Provincial Demand Scaled - 2050 Total\", \"error_modelled\"]].sum()/1_000_000"
   ]
  },
  {
   "cell_type": "code",
   "execution_count": null,
   "id": "2dbbe4a9-c3a8-49ab-b035-17865788da28",
   "metadata": {
    "tags": []
   },
   "outputs": [],
   "source": [
    "#provincial corrections\n",
    "for province in provinces:\n",
    "    combined[province+\"_corrected\"] = combined[province] - (combined[province+\"_hourly_share\"] * combined[\"error_modelled\"])"
   ]
  },
  {
   "cell_type": "code",
   "execution_count": null,
   "id": "47a4595d-11a9-4899-8488-6151768e2f0a",
   "metadata": {
    "tags": []
   },
   "outputs": [],
   "source": [
    "combined[\"Provincial Demand Scaled - 2050 - REF Total_corrected\"] = combined.loc[:,\"Eastern Cape_corrected\":\"Free State_corrected\"].sum(axis = 1)"
   ]
  },
  {
   "cell_type": "raw",
   "id": "c5022f18-945c-4baa-ba9a-23eca8e5f32e",
   "metadata": {
    "tags": []
   },
   "source": [
    "title = \"<b>Full Timeseries Output - 2050 Modelled Years</b><br>2017 base input data used for provincial profiles before scaling.<br>Timeseries below in MW or percentages(0-1 & 0-100).\"\n",
    "fig = px.line(combined, \n",
    "              labels = {\"Date\":\"Date and Time\", \"variable\":\"Timeseries (Meggawatts & percentages)\", \"value\":\"Electricity Demand (MW)\"},\n",
    "              title = title,\n",
    "              color_discrete_sequence=px.colors.qualitative.Prism)\n",
    "fig.update_yaxes(showticklabels=True, showgrid = True, title_font = dict(size = 18))\n",
    "fig.update_xaxes(showticklabels=True, showgrid = True, title_font = dict(size = 18))\n",
    "fig.update_layout(legend=dict(font= dict(size=10)))\n",
    "fig.update_yaxes(range=[0, 65000])\n",
    "fig.update_layout(\n",
    "    title={ \"font\": dict(size=24), 'y':0.94, 'x':0.5, 'xanchor': 'center', 'yanchor': 'top'}, \n",
    "    height = 800, width = 1400, margin = dict( l=50, r=20,b=50, t=120))\n",
    "fig.show()\n",
    "short_title = str(title.split(\">\")[1].split(\"<\")[0])\n",
    "#fig.write_html(\"figures/interactive/\"+ short_title +\".html\")\n",
    "#fig.write_image(\"figures/static/\"+ short_title +\".jpg\", scale = 3)\n",
    "#fig.write_image(\"figures/static/\"+ short_title +\".svg\")"
   ]
  },
  {
   "cell_type": "code",
   "execution_count": null,
   "id": "449e05c9-c5ad-4ef6-b1e0-a46561d06fc5",
   "metadata": {
    "tags": []
   },
   "outputs": [],
   "source": [
    "reduced = pd.DataFrame()\n",
    "reduced[\"Provincial Demand Scaled - 2050 Total - REF\"] = combined[\"Provincial Demand Scaled - 2050 Total\"]\n",
    "reduced[\"National Hourly Demand Model - 2050 Output - REF\"] = combined[\"model_output_2050\"]"
   ]
  },
  {
   "cell_type": "code",
   "execution_count": null,
   "id": "d9ddfcb6-0fa1-480c-ad2f-3da79b5959ca",
   "metadata": {
    "tags": []
   },
   "outputs": [],
   "source": [
    "title = \"<b>Modelled Demand Profile Comparison - REF 2050 Modelled Years</b><br>National and Total Provincial Profiles Overlaid - 2050 - Reference IRP Demand\"\n",
    "fig = px.line(reduced/1000, \n",
    "              height = 700, width = 1200,\n",
    "              labels = {\"index\":\"Hour of the Day\", \"variable\":\"Demand Profile Comparison\", \"value\":\"Electricity Demand (GW)\"},\n",
    "              title = title,\n",
    "              color_discrete_sequence=px.colors.qualitative.Prism)\n",
    "fig.update_yaxes(showticklabels=True, showgrid = True, title_font = dict(size = 18))\n",
    "fig.update_xaxes(showticklabels=True, showgrid = True, title_font = dict(size = 18))\n",
    "fig.update_layout(legend=dict(xanchor = \"right\", x = 0.99, y = 0.45, font= dict(size=14)))\n",
    "fig.update_yaxes(range=[0, 65])\n",
    "fig.update_layout(\n",
    "    title={ \"font\": dict(size=26), 'y':0.94, 'x':0.5, 'xanchor': 'center', 'yanchor': 'top'}, \n",
    "    height = 700, width = 1200, margin = dict( l=50, r=20,b=50, t=80))\n",
    "fig.show()\n",
    "short_title = str(title.split(\">\")[1].split(\"<\")[0])\n",
    "fig.write_html(\"figures/interactive/\"+ short_title +\".html\")\n",
    "fig.write_image(\"figures/static/\"+ short_title +\".jpg\", scale = 3)"
   ]
  },
  {
   "cell_type": "code",
   "execution_count": null,
   "id": "c1a175f3-a799-44d8-afe9-dfbfdb22c460",
   "metadata": {
    "tags": []
   },
   "outputs": [],
   "source": [
    "title = \"<b>Modelled Demand Profile Comparison - REF 2050 Example Week</b><br>National and Total Provincial Profiles Overlaid - 2050 - Reference IRP Demand\"\n",
    "fig = px.line(reduced/1000, \n",
    "              height = 700, width = 1200,\n",
    "              labels = {\"index\":\"Hour of the Day\", \"variable\":\"Demand Profile Comparison\", \"value\":\"Electricity Demand (GW)\"},\n",
    "              title = title,\n",
    "              color_discrete_sequence=px.colors.qualitative.Prism)\n",
    "fig.update_yaxes(showticklabels=True, showgrid = True, title_font = dict(size = 18))\n",
    "fig.update_xaxes(showticklabels=True, showgrid = True, title_font = dict(size = 18))\n",
    "fig.update_layout(legend=dict(xanchor = \"right\", x = 0.99, y = 0.45, font= dict(size=14)))\n",
    "fig.update_yaxes(range=[0, 65])\n",
    "fig.update_xaxes(range=[\"2017-03-13\",\"2017-03-20\"])\n",
    "fig.update_layout(\n",
    "    title={ \"font\": dict(size=26), 'y':0.94, 'x':0.5, 'xanchor': 'center', 'yanchor': 'top'}, \n",
    "    height = 700, width = 1200, margin = dict( l=50, r=20,b=50, t=80))\n",
    "fig.show()\n",
    "short_title = str(title.split(\">\")[1].split(\"<\")[0])\n",
    "fig.write_html(\"figures/interactive/\"+ short_title +\".html\")\n",
    "fig.write_image(\"figures/static/\"+ short_title +\".jpg\", scale = 3)"
   ]
  },
  {
   "cell_type": "code",
   "execution_count": null,
   "id": "d22d4de2-93ff-4cd1-aba2-3a9a3d0919c2",
   "metadata": {
    "tags": []
   },
   "outputs": [],
   "source": [
    "title = \"<b>Output Demand Profile Comparison (Uncorrected) - REF 2050 Average Days</b><br>'Average Day' Uncorrected Profiles Compared - 2050 - Reference IRP Demand\"\n",
    "fig = px.line(pd.pivot_table(reduced/1000,\n",
    "                             index = combined.index.time, \n",
    "                             values = [\"Provincial Demand Scaled - 2050 Total - REF\", \"National Hourly Demand Model - 2050 Output - REF\"]),\n",
    "              labels = {\"index\":\"Hour of the Day\", \"variable\":\"Demand Profile Comparison\", \"value\":\"Electricity Demand (GW)\"},\n",
    "              title = title,\n",
    "              color_discrete_sequence=px.colors.qualitative.Prism)\n",
    "fig.update_yaxes(showticklabels=True, showgrid = True, title_font = dict(size = 18))\n",
    "fig.update_xaxes(showticklabels=True, showgrid = True, title_font = dict(size = 18))\n",
    "fig.update_layout(legend=dict(xanchor = \"right\", x = 0.99, y = 0.45, font= dict(size=14)))\n",
    "fig.update_yaxes(range=[0, 65])\n",
    "fig.update_layout(\n",
    "    title={ \"font\": dict(size=26), 'y':0.94, 'x':0.5, 'xanchor': 'center', 'yanchor': 'top'}, \n",
    "    height = 700, width = 1200, margin = dict( l=50, r=20,b=50, t=80))\n",
    "fig.show()\n",
    "short_title = str(title.split(\">\")[1].split(\"<\")[0])\n",
    "fig.write_html(\"figures/interactive/\"+ short_title +\".html\")\n",
    "fig.write_image(\"figures/static/\"+ short_title +\".jpg\", scale = 3)"
   ]
  },
  {
   "cell_type": "code",
   "execution_count": null,
   "id": "93170d50-8c45-4a7e-a568-5975ab5bef03",
   "metadata": {
    "tags": []
   },
   "outputs": [],
   "source": [
    "reduced = pd.DataFrame()\n",
    "reduced[\"Provincial Demand Scaled - 2050 Total - REF\"] = combined[\"Provincial Demand Scaled - 2050 Total\"]\n",
    "reduced[\"National Hourly Demand Model - 2050 Output - REF\"] = combined[\"model_output_2050\"]\n",
    "reduced[\"error_modelled\"] = combined[\"error_modelled\"]"
   ]
  },
  {
   "cell_type": "code",
   "execution_count": null,
   "id": "de21a928-723a-4eb3-bb05-37dd7b8ea153",
   "metadata": {},
   "outputs": [],
   "source": [
    "title = \"<b>Average Error Between Models Per Hour of Day - REF 2050 Average Days</b><br>Profiles Compared Between Models - 2050 - Reference IRP Demand\"\n",
    "fig = px.line(pd.pivot_table(reduced,\n",
    "                             index = combined.index.time, \n",
    "                             values = [\"error_modelled\"]),\n",
    "              labels = {\"index\":\"Hour of the Day\", \"variable\":\"Demand Profile Comparison\", \"value\":\"Electricity Demand (MW)\"},\n",
    "              title = title,\n",
    "              color_discrete_sequence=px.colors.qualitative.Prism)\n",
    "fig.update_yaxes(showticklabels=True, showgrid = True, title_font = dict(size = 18))\n",
    "fig.update_xaxes(showticklabels=True, showgrid = True, title_font = dict(size = 18))\n",
    "fig.update_layout(legend=dict(font= dict(size=14)))\n",
    "fig.update_layout(\n",
    "    title={ \"font\": dict(size=26), 'y':0.94, 'x':0.5, 'xanchor': 'center', 'yanchor': 'top'}, \n",
    "    height = 700, width = 1200, margin = dict( l=50, r=20,b=50, t=80))\n",
    "fig.show()\n",
    "short_title = str(title.split(\">\")[1].split(\"<\")[0])\n",
    "fig.write_html(\"figures/interactive/\"+ short_title +\".html\")\n",
    "fig.write_image(\"figures/static/\"+ short_title +\".jpg\", scale = 3)"
   ]
  },
  {
   "cell_type": "code",
   "execution_count": null,
   "id": "84519e64-0a37-4bb9-9b83-499ae092b814",
   "metadata": {
    "tags": []
   },
   "outputs": [],
   "source": [
    "title = \"<b>Average Error Per Hour of Day for Each Day of Week - REF 2050 Average Days</b><br>Profiles Compared Between Models - 2050 - Reference IRP Demand\"\n",
    "fig = px.line(pd.pivot_table(reduced, \n",
    "                             index = combined.index.time, \n",
    "                             columns = combined.index.day_name(), \n",
    "                             values = \"error_modelled\"),\n",
    "              labels = {\"index\":\"Hour of the Day\", \"Date\":\"Demand Profile Comparison\", \"value\":\"Electricity Demand (MW)\"},\n",
    "              title = title,\n",
    "              color_discrete_sequence=px.colors.qualitative.Prism)\n",
    "fig.update_yaxes(showticklabels=True, showgrid = True, title_font = dict(size = 18))\n",
    "fig.update_xaxes(showticklabels=True, showgrid = True, title_font = dict(size = 18))\n",
    "fig.update_layout(legend=dict(font= dict(size=14)))\n",
    "fig.update_layout(\n",
    "    title={ \"font\": dict(size=26), 'y':0.94, 'x':0.5, 'xanchor': 'center', 'yanchor': 'top'}, \n",
    "    height = 700, width = 1200, margin = dict( l=50, r=20,b=50, t=80))\n",
    "fig.show()\n",
    "short_title = str(title.split(\">\")[1].split(\"<\")[0])\n",
    "fig.write_html(\"figures/interactive/\"+ short_title +\".html\")\n",
    "fig.write_image(\"figures/static/\"+ short_title +\".jpg\", scale = 3)"
   ]
  },
  {
   "cell_type": "code",
   "execution_count": null,
   "id": "7e674524-d2f6-4f89-9b58-9237ec603971",
   "metadata": {
    "tags": []
   },
   "outputs": [],
   "source": [
    "reduced = pd.DataFrame()\n",
    "\n",
    "reduced[\"Gauteng_corrected\"] = combined[\"Gauteng_corrected\"]\n",
    "reduced[\"Gauteng_simple\"] = combined[\"Gauteng\"]\n",
    "\n",
    "reduced[\"Western Cape_corrected\"] = combined[\"Western Cape_corrected\"]\n",
    "reduced[\"Western Cape_simple\"] = combined[\"Western Cape\"]\n",
    "\n",
    "reduced[\"Free State_corrected\"] = combined[\"Free State_corrected\"]\n",
    "reduced[\"Free State_simple\"] = combined[\"Free State\"]"
   ]
  },
  {
   "cell_type": "code",
   "execution_count": null,
   "id": "2657ac51-3146-4a7d-baf0-605301f776d5",
   "metadata": {
    "tags": []
   },
   "outputs": [],
   "source": [
    "title = \"<b>Simple Scaling and Corrected Provincial Profiles - REF 2050 Example Week</b><br>Exemplary Provincial Profile Corrections - 2050 - Reference IRP Demand\"\n",
    "fig = px.line(reduced/1000, \n",
    "              labels = {\"index\":\"Hour of the Day\", \"variable\":\"Demand Profile Comparison\", \"value\":\"Electricity Demand (GW)\"},\n",
    "              title = title,\n",
    "              color_discrete_sequence=px.colors.qualitative.Prism)\n",
    "fig.update_yaxes(showticklabels=True, showgrid = True, title_font = dict(size = 18))\n",
    "fig.update_xaxes(showticklabels=True, showgrid = True, title_font = dict(size = 18))\n",
    "fig.update_layout(legend=dict(xanchor = \"right\", x = 0.99, y = 0.45, font= dict(size=14)))\n",
    "fig.update_yaxes(range=[0, 16])\n",
    "fig.update_xaxes(range=[\"2017-03-13\",\"2017-03-20\"])\n",
    "fig.update_layout(\n",
    "    title={ \"font\": dict(size=26), 'y':0.94, 'x':0.5, 'xanchor': 'center', 'yanchor': 'top'}, \n",
    "    height = 700, width = 1200, margin = dict( l=50, r=20,b=50, t=80))\n",
    "fig.show()\n",
    "short_title = str(title.split(\">\")[1].split(\"<\")[0])\n",
    "fig.write_html(\"figures/interactive/\"+ short_title +\".html\")\n",
    "fig.write_image(\"figures/static/\"+ short_title +\".jpg\", scale = 3)"
   ]
  },
  {
   "cell_type": "code",
   "execution_count": null,
   "id": "1553576b-b375-4d90-a908-c58b096f12bc",
   "metadata": {
    "tags": []
   },
   "outputs": [],
   "source": [
    "historical_exports = pd.read_excel(\"data\\\\Sentout_and_Exports_Hist_Actual.xlsx\", sheet_name = \"Exports\", index_col = \"hour\")\n",
    "historical_exports.index = pd.date_range(start = \"01-01-2017 00:00:00\", end = \"31-12-2017 23:00:00\", freq = \"h\")\n",
    "historical_exports.head()"
   ]
  },
  {
   "cell_type": "code",
   "execution_count": null,
   "id": "c06862ca-7e6d-44ed-9d67-fbd25938ad7f",
   "metadata": {
    "tags": []
   },
   "outputs": [],
   "source": [
    "historical_exports[2023]"
   ]
  },
  {
   "cell_type": "code",
   "execution_count": null,
   "id": "3a9d9e52-3699-4432-984d-a3b6d2ba189f",
   "metadata": {
    "tags": []
   },
   "outputs": [],
   "source": [
    "historical_exports_norm = historical_exports / historical_exports.sum()\n",
    "historical_exports_norm"
   ]
  },
  {
   "cell_type": "code",
   "execution_count": null,
   "id": "088e6459-ea8d-4345-a48e-cb865bebdc35",
   "metadata": {
    "tags": []
   },
   "outputs": [],
   "source": [
    "export_weights = pd.read_csv(\"data\\\\Provincial_Export_Weights.csv\", index_col = \"hour\")\n",
    "export_weights.index = pd.date_range(start = \"01-01-2017 00:00:00\", end = \"31-12-2017 23:00:00\", freq = \"h\")\n",
    "export_weights = export_weights.astype(\"float\")\n",
    "export_weights"
   ]
  },
  {
   "cell_type": "code",
   "execution_count": null,
   "id": "28400a4f-ba46-4f30-9e48-81135d2428b1",
   "metadata": {
    "tags": []
   },
   "outputs": [],
   "source": [
    "annual_exports = pd.read_csv(\"data\\\\Annual_Export_Scenarios_SATIM_MWh.csv\", index_col = \"Year\")\n",
    "annual_exports /= (1 - 0.039) #add 4% transmission losses from \"Sales\" data. \n",
    "annual_exports.head() #Values here in MWh per year"
   ]
  },
  {
   "cell_type": "code",
   "execution_count": null,
   "id": "4da39f17-f62f-41ee-bcd8-c5c4774abb8c",
   "metadata": {
    "tags": []
   },
   "outputs": [],
   "source": [
    "historical_exports[2023]"
   ]
  },
  {
   "cell_type": "code",
   "execution_count": null,
   "id": "789f6643-46e5-4d13-be71-4ccb3fd5ddde",
   "metadata": {
    "tags": []
   },
   "outputs": [],
   "source": [
    "model_output_format = pd.read_csv(\"data\\\\IRPDemandREF.csv\")\n",
    "model_output_format[\"model_year\"] = model_output_format.Date.values\n",
    "model_output_format[\"model_year\"] = model_output_format.model_year.str.split(\"/\", n = 1, expand = True)[0].astype(\"int\")\n",
    "model_output_format"
   ]
  },
  {
   "cell_type": "code",
   "execution_count": null,
   "id": "42f4b6dd-5f41-4b5a-9527-6eac9a39be87",
   "metadata": {
    "tags": []
   },
   "outputs": [],
   "source": [
    "def calculate_total_export_profile(scenario, historical_exports_norm, annual_exports, export_weights, year):\n",
    "    #calculate export profiles\n",
    "    montraco_hourly = 942.0091324\n",
    "    if (scenario == \"IRPDemandLOWDelEVs\") & (year >2034):  # in the IRPDemandLOWDelEVs scenario Montracal (Mozal) export stops after 2034\n",
    "        montraco_hourly = 0\n",
    "    exports = pd.DataFrame()\n",
    "    exports[\"total_export\"] = historical_exports_norm[2023] * annual_exports[scenario][year]\n",
    "    exports[\"montraco_expected\"] =  montraco_hourly\n",
    "    exports[\"montraco_actual\"] = exports[[\"total_export\",\"montraco_expected\"]].min(axis = 1)\n",
    "    exports[\"export_balance\"] = exports[\"total_export\"] - exports[\"montraco_actual\"]\n",
    "    \n",
    "    exports_allocation = export_weights.multiply(exports[\"export_balance\"], axis = 0)\n",
    "    exports_allocation[\"Mpumalanga_export\"] = exports_allocation[\"Mpumalanga_export\"] + exports[\"montraco_actual\"]\n",
    "    \n",
    "    return exports_allocation"
   ]
  },
  {
   "cell_type": "code",
   "execution_count": null,
   "id": "e3054bec-944d-48df-a2b9-6fd3287b5512",
   "metadata": {
    "tags": []
   },
   "outputs": [],
   "source": [
    "def provincialize_national_demand(scenario, full_ts, prov_input, output_filename, historical_exports_norm, annual_exports, export_weights, include_exports = True):    \n",
    "    \n",
    "    prov_shares = prov_input.copy()\n",
    "    prov_shares[\"total\"] = prov_shares.sum(axis = 1)\n",
    "    \n",
    "    full_ts[\"model_year\"] = full_ts.Date.values\n",
    "    full_ts[\"model_year\"] = full_ts.model_year.str.split(\"/\", n = 1, expand = True)[0].astype(\"int\")\n",
    "    full_ts.rename(columns = {\"Weighted (MW)\": \"model_demand\", \"Overall Hour\":\"overall_hour\"}, inplace = True)\n",
    "    \n",
    "    model_output_prov = full_ts.copy()\n",
    "    model_output_prov[\"national_demand_shifted\"] = 0\n",
    "    model_output_prov[\"weekday_shifted\"] = 0\n",
    "    model_output_prov[provinces] = 0\n",
    "    model_output_prov[provinces_corrected] = 0\n",
    "\n",
    "    for province in provinces:\n",
    "        prov_shares[province+\"_hourly_share\"] = prov_shares[province] / prov_shares[\"total\"]\n",
    "\n",
    "    results_list = []\n",
    "    error_ts = pd.DataFrame()\n",
    "    for year in range(full_ts.model_year.min(), full_ts.model_year.max() + 1):\n",
    "        year_ts = full_ts.query(\"model_year == @year\")\n",
    "        year_ts.index = pd.date_range(start = \"01-01-2017 00:00:00\", end = \"31-12-2017 23:00:00\", freq = \"h\")\n",
    "\n",
    "        modelled_start_day = year_ts.weekday.iloc[0]\n",
    "\n",
    "        shift_hours = int(-1 * (year_ts[year_ts.weekday == 1].overall_hour.iloc[0] -1))\n",
    "        year_ts[[\"overall_hour\",\"weekday\",\"model_demand\",\"model_year\"]] = np.roll(year_ts[[\"overall_hour\",\"weekday\",\"model_demand\",\"model_year\"]], shift = shift_hours, axis = 0)\n",
    "\n",
    "        prov_year_scaled = prov_2017_norm * year_ts[\"model_demand\"].sum()\n",
    "        prov_year_scaled[\"total\"] = prov_year_scaled.sum(axis = 1)\n",
    "\n",
    "        error_ts = pd.DataFrame()\n",
    "        error_ts[\"error_modelled\"] = prov_year_scaled[\"total\"] - year_ts[\"model_demand\"]\n",
    "        \n",
    "        export_profile = calculate_total_export_profile(scenario = scenario, \n",
    "                                historical_exports_norm = historical_exports_norm,  \n",
    "                                annual_exports = annual_exports,\n",
    "                                export_weights = export_weights,\n",
    "                                year = year)\n",
    "        \n",
    "        for province in provinces:\n",
    "            #correction applied for provincial profiles based on proportional share of error compared to national total profile\n",
    "            prov_year_scaled[province+\"_corrected\"] = prov_year_scaled[province] - (prov_shares[province+\"_hourly_share\"] * error_ts[\"error_modelled\"])\n",
    "            \n",
    "            #add export profiles per proince\n",
    "            if include_exports == True:\n",
    "                prov_year_scaled[province+\"_corrected\"] = prov_year_scaled[province+\"_corrected\"] + export_profile[province+\"_export\"]\n",
    "\n",
    "        #timeshift profiles back to original year    \n",
    "        model_output_prov.loc[(year-2023)*8760:(1 + year-2023)*8760 -1, \"national_demand_shifted\"] = year_ts[\"model_demand\"].values\n",
    "        model_output_prov.loc[(year-2023)*8760:(1 + year-2023)*8760 -1 ,\"weekday_shifted\"] = year_ts[\"weekday\"].values\n",
    "        model_output_prov.loc[(year-2023)*8760:(1 + year-2023)*8760 -1, provinces] = prov_year_scaled[provinces].values\n",
    "        model_output_prov.loc[(year-2023)*8760:(1 + year-2023)*8760 -1, provinces_corrected] = prov_year_scaled[provinces_corrected].values\n",
    "\n",
    "        #root mean squared error metric\n",
    "        rmse = np.sqrt(np.mean(error_ts**2))\n",
    "        total_demand = prov_year_scaled[\"total\"].sum()/1_000_000\n",
    "        total_demand = prov_year_scaled[provinces_corrected].sum().sum()/1_000_000\n",
    "\n",
    "        #metrics dictionary and list added per year for validation/testing\n",
    "        results_dict = {\"Year\": year, \"Total Demand\": total_demand, \"RSME\": rmse, \"Modelled Start Day\": modelled_start_day}\n",
    "        results_list.append(results_dict)\n",
    "\n",
    "        print(total_demand.round(2))\n",
    "        #print(rmse.round(2))\n",
    "        #print(\"\\n\")\n",
    "\n",
    "    results_stats = pd.DataFrame(results_list)\n",
    "    results_stats.index = results_stats.Year\n",
    "    \n",
    "    fig = px.line(results_stats, height = 700)\n",
    "    fig.show()\n",
    "    \n",
    "\n",
    "    model_output_prov.drop(columns = provinces, inplace = True)\n",
    "    model_output_prov.to_csv(\"spatialized_outputs\\\\\"+output_filename+\".csv\", index = False)\n",
    "    \n",
    "    return model_output_prov"
   ]
  },
  {
   "cell_type": "code",
   "execution_count": null,
   "id": "a98df9be-a2bf-480c-b0fb-87f3c629fc6c",
   "metadata": {
    "tags": []
   },
   "outputs": [],
   "source": [
    "export_profile_plot_2023 = calculate_total_export_profile(scenario = \"IRPDemandREF\", \n",
    "                        historical_exports_norm = historical_exports_norm,  \n",
    "                        annual_exports = annual_exports,\n",
    "                        export_weights = export_weights,\n",
    "                        year = 2023)"
   ]
  },
  {
   "cell_type": "code",
   "execution_count": null,
   "id": "222c49ff-2600-497a-b0a3-27acb6efd8c5",
   "metadata": {
    "tags": []
   },
   "outputs": [],
   "source": [
    "export_profile_plot_2023 = calculate_total_export_profile(scenario = \"IRPDemandREF\", \n",
    "                        historical_exports_norm = historical_exports_norm,  \n",
    "                        annual_exports = annual_exports,\n",
    "                        export_weights = export_weights,\n",
    "                        year = 2023)\n",
    "\n",
    "title = \"<b>Export Profiles Allocated and Applied per Province - 2023</b><br>2023 - Reference IRP Demand\"\n",
    "fig = px.line(export_profile_plot_2023, \n",
    "              labels = {\"index\":\"Hour of the Day\", \"variable\":\"Demand Profile Comparison\", \"value\":\"Electricity Export Demand (MW)\"},\n",
    "              title = title,\n",
    "              color_discrete_sequence=px.colors.qualitative.Prism)\n",
    "fig.update_yaxes(showticklabels=True, showgrid = True, title_font = dict(size = 18))\n",
    "fig.update_xaxes(showticklabels=True, showgrid = True, title_font = dict(size = 18))\n",
    "fig.update_layout(legend=dict(xanchor = \"right\", x = 0.99, y = 0.45, font= dict(size=14)))\n",
    "fig.update_yaxes(range=[0, 1200])\n",
    "fig.update_xaxes(range=[\"2017-03-13\",\"2017-03-20\"])\n",
    "fig.update_layout(\n",
    "    title={ \"font\": dict(size=26), 'y':0.94, 'x':0.5, 'xanchor': 'center', 'yanchor': 'top'}, \n",
    "    height = 700, width = 1200, margin = dict( l=50, r=20,b=50, t=80))\n",
    "fig.show()\n",
    "short_title = str(title.split(\">\")[1].split(\"<\")[0])\n",
    "fig.write_html(\"figures/interactive/\"+ short_title +\".html\")\n",
    "fig.write_image(\"figures/static/\"+ short_title +\".jpg\", scale = 3)"
   ]
  },
  {
   "cell_type": "code",
   "execution_count": null,
   "id": "3dadf673-91e8-482f-9e08-7d9e8e90ebd0",
   "metadata": {
    "tags": []
   },
   "outputs": [],
   "source": [
    "export_profile_plot_2050 = calculate_total_export_profile(scenario = \"IRPDemandLOWDelEVs\", \n",
    "                        historical_exports_norm = historical_exports_norm,  \n",
    "                        annual_exports = annual_exports,\n",
    "                        export_weights = export_weights,\n",
    "                        year = 2050)\n",
    "\n",
    "title = \"<b>Export Profiles Allocated and Applied per Province - 2050</b><br>2050 - IRP Low Demand with Delayed EVs (No Montraco after 2034)\"\n",
    "fig = px.line(export_profile_plot_2050, \n",
    "              labels = {\"index\":\"Hour of the Day\", \"variable\":\"Demand Profile Comparison\", \"value\":\"Electricity Export Demand (MW)\"},\n",
    "              title = title,\n",
    "              color_discrete_sequence=px.colors.qualitative.Prism)\n",
    "fig.update_yaxes(showticklabels=True, showgrid = True, title_font = dict(size = 18))\n",
    "fig.update_xaxes(showticklabels=True, showgrid = True, title_font = dict(size = 18))\n",
    "fig.update_layout(legend=dict(xanchor = \"right\", x = 0.99, y = 0.45, font= dict(size=14)))\n",
    "fig.update_yaxes(range=[0, 1200])\n",
    "fig.update_xaxes(range=[\"2017-03-13\",\"2017-03-20\"])\n",
    "fig.update_layout(\n",
    "    title={ \"font\": dict(size=26), 'y':0.94, 'x':0.5, 'xanchor': 'center', 'yanchor': 'top'}, \n",
    "    height = 700, width = 1200, margin = dict( l=50, r=20,b=50, t=80))\n",
    "fig.show()\n",
    "short_title = str(title.split(\">\")[1].split(\"<\")[0])\n",
    "fig.write_html(\"figures/interactive/\"+ short_title +\".html\")\n",
    "fig.write_image(\"figures/static/\"+ short_title +\".jpg\", scale = 3)"
   ]
  },
  {
   "cell_type": "code",
   "execution_count": null,
   "id": "92c632c5-c786-4203-bc27-4f24816dec3c",
   "metadata": {
    "tags": []
   },
   "outputs": [],
   "source": [
    "scenario_name = \"IRPDemandREF\"\n",
    "output1 = provincialize_national_demand(scenario = scenario_name,\n",
    "                                        full_ts = pd.read_csv(\"data\\\\\"+scenario_name+\".csv\"),\n",
    "                                        prov_input = prov_2017_base,\n",
    "                                        output_filename = scenario_name+\"_provincial_w_exports\",\n",
    "                                        historical_exports_norm = historical_exports_norm,\n",
    "                                        annual_exports = annual_exports,\n",
    "                                        export_weights = export_weights,\n",
    "                                        include_exports = True)"
   ]
  },
  {
   "cell_type": "code",
   "execution_count": null,
   "id": "9d10c8dc-e0e5-427b-985a-c9f7f4a77fa6",
   "metadata": {
    "tags": []
   },
   "outputs": [],
   "source": [
    "scenario_name = \"IRPDemandHIG\"\n",
    "output2 = provincialize_national_demand(scenario = scenario_name,\n",
    "                                        full_ts = pd.read_csv(\"data\\\\\"+scenario_name+\".csv\"),\n",
    "                                        prov_input = prov_2017_base,\n",
    "                                        output_filename = scenario_name+\"_provincial_w_exports\",\n",
    "                                        historical_exports_norm = historical_exports_norm,\n",
    "                                        annual_exports = annual_exports,\n",
    "                                        export_weights = export_weights,\n",
    "                                        include_exports = True)"
   ]
  },
  {
   "cell_type": "code",
   "execution_count": null,
   "id": "591d7a00-cba9-4877-8778-09a547edfacc",
   "metadata": {
    "tags": []
   },
   "outputs": [],
   "source": [
    "scenario_name = \"IRPDemandLOW\"\n",
    "output3 = provincialize_national_demand(scenario = scenario_name,\n",
    "                                        full_ts = pd.read_csv(\"data\\\\\"+scenario_name+\".csv\"),\n",
    "                                        prov_input = prov_2017_base,\n",
    "                                        output_filename = scenario_name+\"_provincial_w_exports\",\n",
    "                                        historical_exports_norm = historical_exports_norm,\n",
    "                                        annual_exports = annual_exports,\n",
    "                                        export_weights = export_weights,\n",
    "                                        include_exports = True)"
   ]
  },
  {
   "cell_type": "code",
   "execution_count": null,
   "id": "763a3154-0c7a-44c2-a3d4-6894d336ea80",
   "metadata": {
    "tags": []
   },
   "outputs": [],
   "source": [
    "scenario_name = \"IRPDemandLOWDelEVs\"\n",
    "output4 = provincialize_national_demand(scenario = scenario_name,\n",
    "                                        full_ts = pd.read_csv(\"data\\\\\"+scenario_name+\".csv\"),\n",
    "                                        prov_input = prov_2017_base,\n",
    "                                        output_filename = scenario_name+\"_provincial_w_exports\",\n",
    "                                        historical_exports_norm = historical_exports_norm,\n",
    "                                        annual_exports = annual_exports,\n",
    "                                        export_weights = export_weights,\n",
    "                                        include_exports = True)"
   ]
  },
  {
   "cell_type": "code",
   "execution_count": null,
   "id": "4c1e39b9-0419-4347-a78c-64950f09d5f1",
   "metadata": {},
   "outputs": [],
   "source": []
  },
  {
   "cell_type": "code",
   "execution_count": null,
   "id": "f42e0e59-6b2c-4931-8940-e3ee7405dc44",
   "metadata": {
    "tags": []
   },
   "outputs": [],
   "source": [
    "scenario_name = \"IRPDemandREF\"\n",
    "output1 = provincialize_national_demand(scenario = scenario_name,\n",
    "                                        full_ts = pd.read_csv(\"data\\\\\"+scenario_name+\".csv\"),\n",
    "                                        prov_input = prov_2017_base,\n",
    "                                        output_filename = scenario_name+\"_provincial_no_exports\",\n",
    "                                        historical_exports_norm = historical_exports_norm,\n",
    "                                        annual_exports = annual_exports,\n",
    "                                        export_weights = export_weights,\n",
    "                                        include_exports = False)"
   ]
  },
  {
   "cell_type": "code",
   "execution_count": null,
   "id": "1392132f-fa7d-4942-b96c-a98decb7f4a7",
   "metadata": {
    "tags": []
   },
   "outputs": [],
   "source": [
    "scenario_name = \"IRPDemandHIG\"\n",
    "output2 = provincialize_national_demand(scenario = scenario_name,\n",
    "                                        full_ts = pd.read_csv(\"data\\\\\"+scenario_name+\".csv\"),\n",
    "                                        prov_input = prov_2017_base,\n",
    "                                        output_filename = scenario_name+\"_provincial_no_exports\",\n",
    "                                        historical_exports_norm = historical_exports_norm,\n",
    "                                        annual_exports = annual_exports,\n",
    "                                        export_weights = export_weights,\n",
    "                                        include_exports = False)"
   ]
  },
  {
   "cell_type": "code",
   "execution_count": null,
   "id": "0df1f38e-1b9c-4086-b1a4-45da7f6b3bb5",
   "metadata": {
    "tags": []
   },
   "outputs": [],
   "source": [
    "scenario_name = \"IRPDemandLOW\"\n",
    "output3 = provincialize_national_demand(scenario = scenario_name,\n",
    "                                        full_ts = pd.read_csv(\"data\\\\\"+scenario_name+\".csv\"),\n",
    "                                        prov_input = prov_2017_base,\n",
    "                                        output_filename = scenario_name+\"_provincial_no_exports\",\n",
    "                                        historical_exports_norm = historical_exports_norm,\n",
    "                                        annual_exports = annual_exports,\n",
    "                                        export_weights = export_weights,\n",
    "                                        include_exports = False)"
   ]
  },
  {
   "cell_type": "code",
   "execution_count": null,
   "id": "cdc75d1b-50c5-400a-8e84-53d93ac57811",
   "metadata": {
    "tags": []
   },
   "outputs": [],
   "source": [
    "scenario_name = \"IRPDemandLOWDelEVs\"\n",
    "output4 = provincialize_national_demand(scenario = scenario_name,\n",
    "                                        full_ts = pd.read_csv(\"data\\\\\"+scenario_name+\".csv\"),\n",
    "                                        prov_input = prov_2017_base,\n",
    "                                        output_filename = scenario_name+\"_provincial_no_exports\",\n",
    "                                        historical_exports_norm = historical_exports_norm,\n",
    "                                        annual_exports = annual_exports,\n",
    "                                        export_weights = export_weights,\n",
    "                                        include_exports = False)"
   ]
  },
  {
   "cell_type": "code",
   "execution_count": null,
   "id": "af8650f6-f59e-49af-9610-6d358398cc78",
   "metadata": {},
   "outputs": [],
   "source": []
  }
 ],
 "metadata": {
  "kernelspec": {
   "display_name": "Python [conda env:geo_env]",
   "language": "python",
   "name": "conda-env-geo_env-py"
  },
  "language_info": {
   "codemirror_mode": {
    "name": "ipython",
    "version": 3
   },
   "file_extension": ".py",
   "mimetype": "text/x-python",
   "name": "python",
   "nbconvert_exporter": "python",
   "pygments_lexer": "ipython3",
   "version": "3.12.2"
  }
 },
 "nbformat": 4,
 "nbformat_minor": 5
}
